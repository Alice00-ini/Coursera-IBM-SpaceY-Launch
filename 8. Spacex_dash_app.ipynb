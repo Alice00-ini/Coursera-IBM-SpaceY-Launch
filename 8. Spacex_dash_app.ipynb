{
 "cells": [
  {
   "cell_type": "code",
   "execution_count": 1,
   "id": "a0ffa42d",
   "metadata": {},
   "outputs": [
    {
     "name": "stdout",
     "output_type": "stream",
     "text": [
      "Requirement already satisfied: dash in c:\\users\\bin lyu\\anaconda3\\lib\\site-packages (2.15.0)\n",
      "Requirement already satisfied: Flask<3.1,>=1.0.4 in c:\\users\\bin lyu\\anaconda3\\lib\\site-packages (from dash) (2.2.2)\n",
      "Requirement already satisfied: Werkzeug<3.1 in c:\\users\\bin lyu\\anaconda3\\lib\\site-packages (from dash) (2.2.3)\n",
      "Requirement already satisfied: plotly>=5.0.0 in c:\\users\\bin lyu\\anaconda3\\lib\\site-packages (from dash) (5.9.0)\n",
      "Requirement already satisfied: dash-html-components==2.0.0 in c:\\users\\bin lyu\\anaconda3\\lib\\site-packages (from dash) (2.0.0)\n",
      "Requirement already satisfied: dash-core-components==2.0.0 in c:\\users\\bin lyu\\anaconda3\\lib\\site-packages (from dash) (2.0.0)\n",
      "Requirement already satisfied: dash-table==5.0.0 in c:\\users\\bin lyu\\anaconda3\\lib\\site-packages (from dash) (5.0.0)\n",
      "Requirement already satisfied: typing-extensions>=4.1.1 in c:\\users\\bin lyu\\anaconda3\\lib\\site-packages (from dash) (4.7.1)\n",
      "Requirement already satisfied: requests in c:\\users\\bin lyu\\anaconda3\\lib\\site-packages (from dash) (2.31.0)\n",
      "Requirement already satisfied: retrying in c:\\users\\bin lyu\\anaconda3\\lib\\site-packages (from dash) (1.3.4)\n",
      "Requirement already satisfied: nest-asyncio in c:\\users\\bin lyu\\anaconda3\\lib\\site-packages (from dash) (1.5.6)\n",
      "Requirement already satisfied: setuptools in c:\\users\\bin lyu\\anaconda3\\lib\\site-packages (from dash) (68.0.0)\n",
      "Requirement already satisfied: importlib-metadata in c:\\users\\bin lyu\\anaconda3\\lib\\site-packages (from dash) (6.0.0)\n",
      "Requirement already satisfied: Jinja2>=3.0 in c:\\users\\bin lyu\\anaconda3\\lib\\site-packages (from Flask<3.1,>=1.0.4->dash) (3.1.2)\n",
      "Requirement already satisfied: itsdangerous>=2.0 in c:\\users\\bin lyu\\anaconda3\\lib\\site-packages (from Flask<3.1,>=1.0.4->dash) (2.0.1)\n",
      "Requirement already satisfied: click>=8.0 in c:\\users\\bin lyu\\anaconda3\\lib\\site-packages (from Flask<3.1,>=1.0.4->dash) (8.0.4)\n",
      "Requirement already satisfied: tenacity>=6.2.0 in c:\\users\\bin lyu\\anaconda3\\lib\\site-packages (from plotly>=5.0.0->dash) (8.2.2)\n",
      "Requirement already satisfied: MarkupSafe>=2.1.1 in c:\\users\\bin lyu\\anaconda3\\lib\\site-packages (from Werkzeug<3.1->dash) (2.1.1)\n",
      "Requirement already satisfied: zipp>=0.5 in c:\\users\\bin lyu\\anaconda3\\lib\\site-packages (from importlib-metadata->dash) (3.11.0)\n",
      "Requirement already satisfied: charset-normalizer<4,>=2 in c:\\users\\bin lyu\\anaconda3\\lib\\site-packages (from requests->dash) (2.0.4)\n",
      "Requirement already satisfied: idna<4,>=2.5 in c:\\users\\bin lyu\\anaconda3\\lib\\site-packages (from requests->dash) (3.4)\n",
      "Requirement already satisfied: urllib3<3,>=1.21.1 in c:\\users\\bin lyu\\anaconda3\\lib\\site-packages (from requests->dash) (1.26.16)\n",
      "Requirement already satisfied: certifi>=2017.4.17 in c:\\users\\bin lyu\\anaconda3\\lib\\site-packages (from requests->dash) (2023.7.22)\n",
      "Requirement already satisfied: six>=1.7.0 in c:\\users\\bin lyu\\anaconda3\\lib\\site-packages (from retrying->dash) (1.16.0)\n",
      "Requirement already satisfied: colorama in c:\\users\\bin lyu\\anaconda3\\lib\\site-packages (from click>=8.0->Flask<3.1,>=1.0.4->dash) (0.4.6)\n"
     ]
    }
   ],
   "source": [
    "!pip install dash"
   ]
  },
  {
   "cell_type": "code",
   "execution_count": 2,
   "id": "e05871ef",
   "metadata": {},
   "outputs": [
    {
     "name": "stderr",
     "output_type": "stream",
     "text": [
      "C:\\Users\\Bin Lyu\\AppData\\Local\\Temp\\ipykernel_11068\\1439708741.py:3: UserWarning: \n",
      "The dash_html_components package is deprecated. Please replace\n",
      "`import dash_html_components as html` with `from dash import html`\n",
      "  import dash_html_components as html\n",
      "C:\\Users\\Bin Lyu\\AppData\\Local\\Temp\\ipykernel_11068\\1439708741.py:4: UserWarning: \n",
      "The dash_core_components package is deprecated. Please replace\n",
      "`import dash_core_components as dcc` with `from dash import dcc`\n",
      "  import dash_core_components as dcc\n"
     ]
    }
   ],
   "source": [
    "import pandas as pd\n",
    "import dash\n",
    "import dash_html_components as html\n",
    "import dash_core_components as dcc\n",
    "from dash.dependencies import Input, Output\n",
    "import plotly.express as px"
   ]
  },
  {
   "cell_type": "code",
   "execution_count": 3,
   "id": "1f2177d9",
   "metadata": {},
   "outputs": [],
   "source": [
    "# Read the airline data into pandas dataframe\n",
    "spacex_df = pd.read_csv('https://cf-courses-data.s3.us.cloud-object-storage.appdomain.cloud/IBM-DS0321EN-SkillsNetwork/datasets/spacex_launch_dash.csv')\n",
    "max_payload = spacex_df['Payload Mass (kg)'].max()\n",
    "min_payload = spacex_df['Payload Mass (kg)'].min()"
   ]
  },
  {
   "cell_type": "code",
   "execution_count": 4,
   "id": "f6f00aee",
   "metadata": {},
   "outputs": [],
   "source": [
    "# Create a dash application\n",
    "app = dash.Dash(__name__)\n"
   ]
  },
  {
   "cell_type": "code",
   "execution_count": 7,
   "id": "f73a3254",
   "metadata": {},
   "outputs": [],
   "source": [
    "# Create an app layout\n",
    "app.layout = html.Div(children=[html.H1('SpaceX Launch Records Dashboard',\n",
    "                                        style={'textAlign': 'center', 'color': '#503D36',\n",
    "                                               'font-size': 40}),\n",
    "                                # TASK 1: Add a dropdown list to enable Launch Site selection\n",
    "                                # The default select value is for ALL sites\n",
    "                                dcc.Dropdown(\n",
    "                                    id='site-dropdown',\n",
    "                                    options=[\n",
    "                                        {'label':'All Sites','value':'ALL'},\n",
    "                                        {'label':'CCAFS LC-40','value':'LC40'},\n",
    "                                        {'label':'VAFB SLC-4E','value':'SLC4E'},\n",
    "                                        {'label':'KSC LC-39A','value':'LC39A'},\n",
    "                                        {'label':'CCAFS SLC-40','value':'SLC40'}\n",
    "                                    ],\n",
    "                                    value='ALL',\n",
    "                                    placeholder='Select a Launch Site here',\n",
    "                                    searchable=True\n",
    "                                ),\n",
    "                                html.Br(),\n",
    "\n",
    "                                # TASK 2: Add a pie chart to show the total successful launches count for all sites\n",
    "                                # If a specific launch site was selected, show the Success vs. Failed counts for the site\n",
    "                                html.Div(dcc.Graph(id='success-pie-chart')),\n",
    "                                html.Br(),\n",
    "\n",
    "                                html.P(\"Payload range (Kg):\"),\n",
    "                                # TASK 3: Add a slider to select payload range\n",
    "                                dcc.RangeSlider(\n",
    "                                    id='payload-slider',\n",
    "                                    min=0,\n",
    "                                    max=10000,\n",
    "                                    step=1000,\n",
    "                                    marks = {\n",
    "                                        0:'0',\n",
    "                                        2500:'2500',\n",
    "                                        5000:'5000',\n",
    "                                        7500:'7500',\n",
    "                                        10000:'10000'\n",
    "                                    },\n",
    "                                    value=[min_payload,max_payload]\n",
    "                                ),\n",
    "\n",
    "                                # TASK 4: Add a scatter chart to show the correlation between payload and launch success\n",
    "                                html.Div(dcc.Graph(id='success-payload-scatter-chart')),\n",
    "                                ])\n",
    "\n",
    "# TASK 2:   \n",
    "# Add a callback function for `site-dropdown` as input, `success-pie-chart` as output\n",
    "@app.callback(\n",
    "    Output(\n",
    "        component_id='success-pie-chart',\n",
    "        component_property='figure'\n",
    "    ),\n",
    "    Input(\n",
    "        component_id='site-dropdown',\n",
    "        component_property='value'\n",
    "    )\n",
    ")\n",
    "def get_pie_chart(entered_site):\n",
    "    if entered_site == 'ALL':\n",
    "        filtered_df = spacex_df\n",
    "        fig = px.pie(filtered_df,values='class',\\\n",
    "            names='Launch Site',title='Total Success Launches By Site')\n",
    "    elif entered_site == 'LC40':\n",
    "        filtered_df = spacex_df[spacex_df['Launch Site'] == 'CCAFS LC-40']\n",
    "        fig = px.pie(filtered_df,names='class',\\\n",
    "            title='Total Success Launches for site CCAFS LC-40')\n",
    "    elif entered_site == 'SLC4E':\n",
    "        filtered_df = spacex_df[spacex_df['Launch Site'] == 'VAFB SLC-4E']\n",
    "        fig = px.pie(filtered_df,names='class',\\\n",
    "            title='Total Success Launches for site VAFB SLC-4E')\n",
    "    elif entered_site == 'LC39A':\n",
    "        filtered_df = spacex_df[spacex_df['Launch Site'] == 'KSC LC-39A']\n",
    "        fig = px.pie(filtered_df,names='class',\\\n",
    "            title='Total Success Launches for site KSC LC-39A')\n",
    "    else:\n",
    "        filtered_df = spacex_df[spacex_df['Launch Site'] == 'CCAFS SLC-40']\n",
    "        fig = px.pie(filtered_df,names='class',\\\n",
    "            title='Total Success Launches for site CCAFS SLC-40')\n",
    "    return fig\n",
    "# TASK 4:\n",
    "# Add a callback function for `site-dropdown` and `payload-slider` as inputs, `success-payload-scatter-chart` as output\n",
    "@app.callback(\n",
    "    Output(\n",
    "        component_id='success-payload-scatter-chart',\n",
    "        component_property='figure'\n",
    "    ),\n",
    "    [\n",
    "        Input(\n",
    "            component_id='site-dropdown',\n",
    "            component_property='value'\n",
    "        ),\n",
    "        Input(\n",
    "            component_id='payload-slider',\n",
    "            component_property='value'\n",
    "        )\n",
    "    ]\n",
    ")\n",
    "def get_scatter_chart(entered_site,payload_mass):\n",
    "    filtered_df = spacex_df[(spacex_df['Payload Mass (kg)'] >= payload_mass[0]) &\\\n",
    "        (spacex_df['Payload Mass (kg)'] <= payload_mass[1])]\n",
    "    if entered_site == 'ALL':\n",
    "        fig = px.scatter(filtered_df,x='Payload Mass (kg)',y='class',\\\n",
    "            color='Booster Version Category',\\\n",
    "                title='Correlation between Payload and Success for all Sites')\n",
    "    elif entered_site == 'LC40':\n",
    "        filtered_df = filtered_df[filtered_df['Launch Site'] == 'CCAFS LC-40']\n",
    "        fig = px.scatter(filtered_df,x='Payload Mass (kg)',y='class',\\\n",
    "            color='Booster Version Category',\\\n",
    "                title='Correlation between Payload and Success for site CCAFS LC-40')\n",
    "    elif entered_site == 'SLC4E':\n",
    "        filtered_df = filtered_df[filtered_df['Launch Site'] == 'VAFB SLC-4E']\n",
    "        fig = px.scatter(filtered_df,x='Payload Mass (kg)',y='class',\\\n",
    "            color='Booster Version Category',\\\n",
    "                title='Correlation between Payload and Success for site VAFB SLC-4E')\n",
    "    elif entered_site == 'LC39A':\n",
    "        filtered_df = filtered_df[filtered_df['Launch Site'] == 'KSC LC-39A']\n",
    "        fig = px.scatter(filtered_df,x='Payload Mass (kg)',y='class',\\\n",
    "            color='Booster Version Category',\\\n",
    "                title='Correlation between Payload and Success for site KSC LC-39A')\n",
    "    else:\n",
    "        filtered_df = filtered_df[filtered_df['Launch Site'] == 'CCAFS SLC-40']\n",
    "        fig = px.scatter(filtered_df,x='Payload Mass (kg)',y='class',\\\n",
    "            color='Booster Version Category',\\\n",
    "                title='Correlation between Payload and Success for site CCAFS SLC-40')\n",
    "    return fig"
   ]
  },
  {
   "cell_type": "code",
   "execution_count": 8,
   "id": "26f827cd",
   "metadata": {},
   "outputs": [
    {
     "data": {
      "text/html": [
       "\n",
       "        <iframe\n",
       "            width=\"100%\"\n",
       "            height=\"650\"\n",
       "            src=\"http://127.0.0.1:8050/\"\n",
       "            frameborder=\"0\"\n",
       "            allowfullscreen\n",
       "            \n",
       "        ></iframe>\n",
       "        "
      ],
      "text/plain": [
       "<IPython.lib.display.IFrame at 0x223aefd7610>"
      ]
     },
     "metadata": {},
     "output_type": "display_data"
    }
   ],
   "source": [
    "app.run_server()"
   ]
  },
  {
   "cell_type": "code",
   "execution_count": null,
   "id": "697026c7",
   "metadata": {},
   "outputs": [],
   "source": []
  }
 ],
 "metadata": {
  "kernelspec": {
   "display_name": "Python 3 (ipykernel)",
   "language": "python",
   "name": "python3"
  },
  "language_info": {
   "codemirror_mode": {
    "name": "ipython",
    "version": 3
   },
   "file_extension": ".py",
   "mimetype": "text/x-python",
   "name": "python",
   "nbconvert_exporter": "python",
   "pygments_lexer": "ipython3",
   "version": "3.11.5"
  }
 },
 "nbformat": 4,
 "nbformat_minor": 5
}
